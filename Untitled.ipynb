{
 "cells": [
  {
   "cell_type": "code",
   "execution_count": 1,
   "id": "7fbca63e",
   "metadata": {},
   "outputs": [],
   "source": [
    "paths_list_json = ['r0899_06/page_1/page_1.json', 'r0899_05/page_1/page_1.json', 'r0899_04/page_1/page_1.json', 'r0899_03/page_1/page_1.json']\n",
    "paths_list_img = ['r0899_06/page_1/page_1.png', 'r0899_05/page_1/page_1.png', 'r0899_04/page_1/page_1.png', 'r0899_03/page_1/page_1.png']"
   ]
  },
  {
   "cell_type": "code",
   "execution_count": 2,
   "id": "0ac2ad26",
   "metadata": {},
   "outputs": [],
   "source": [
    "index = 0"
   ]
  },
  {
   "cell_type": "code",
   "execution_count": 12,
   "id": "641f831a",
   "metadata": {},
   "outputs": [
    {
     "name": "stdout",
     "output_type": "stream",
     "text": [
      "r0899_05/page_1/page_1.png\n",
      "inputnext\n",
      "r0899_04/page_1/page_1.png\n"
     ]
    }
   ],
   "source": [
    "print(paths_list_img[index])\n",
    "if input('input') == 'next' :\n",
    "    if index >= 0 and index in range(len(paths_list_img)):\n",
    "        index += 1\n",
    "print(paths_list_img[index])"
   ]
  },
  {
   "cell_type": "code",
   "execution_count": 13,
   "id": "2b5e4ae8",
   "metadata": {},
   "outputs": [
    {
     "name": "stdout",
     "output_type": "stream",
     "text": [
      "inputprev\n",
      "r0899_05/page_1/page_1.png\n"
     ]
    }
   ],
   "source": [
    "if input('input') == 'prev' :\n",
    "    if index >= 1 and index in range(len(paths_list_img)):\n",
    "        index -= 1\n",
    "print(paths_list_img[index])"
   ]
  },
  {
   "cell_type": "code",
   "execution_count": null,
   "id": "af550486",
   "metadata": {},
   "outputs": [],
   "source": [
    "print(paths_list_img[index])"
   ]
  },
  {
   "cell_type": "code",
   "execution_count": null,
   "id": "efb375ee",
   "metadata": {},
   "outputs": [],
   "source": []
  }
 ],
 "metadata": {
  "kernelspec": {
   "display_name": "Python 3 (ipykernel)",
   "language": "python",
   "name": "python3"
  },
  "language_info": {
   "codemirror_mode": {
    "name": "ipython",
    "version": 3
   },
   "file_extension": ".py",
   "mimetype": "text/x-python",
   "name": "python",
   "nbconvert_exporter": "python",
   "pygments_lexer": "ipython3",
   "version": "3.8.10"
  }
 },
 "nbformat": 4,
 "nbformat_minor": 5
}
