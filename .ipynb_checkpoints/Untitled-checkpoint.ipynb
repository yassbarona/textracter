{
 "cells": [
  {
   "cell_type": "code",
   "execution_count": 29,
   "id": "31a02410",
   "metadata": {},
   "outputs": [],
   "source": [
    "paths_list_img = ['r0899_06/page_1/page_1.json', 'r0899_05/page_1/page_1.json', 'r0899_04/page_1/page_1.json', 'r0899_03/page_1/page_1.json']\n",
    "paths_list_json = ['r0899_06/page_1/page_1.png', 'r0899_05/page_1/page_1.png', 'r0899_04/page_1/page_1.png', 'r0899_03/page_1/page_1.png']"
   ]
  },
  {
   "cell_type": "code",
   "execution_count": 30,
   "id": "c2129d3f",
   "metadata": {},
   "outputs": [
    {
     "name": "stdout",
     "output_type": "stream",
     "text": [
      "r0899_06/page_1/page_1.json\n",
      "inputprev\n",
      "inputprev\n",
      "r0899_03/page_1/page_1.json\n"
     ]
    }
   ],
   "source": [
    "index = 0\n",
    "print(paths_list_img[index])\n",
    "if input('input') == 'next' :\n",
    "    if index >= 0 and index in range(len(paths_list_img)):\n",
    "        index += 1\n",
    "elif input('input') == 'prev' :\n",
    "    if index >= 1 and index in range(len(paths_list_img)):\n",
    "        index -= 1\n",
    "print(paths_list_img[index])"
   ]
  },
  {
   "cell_type": "code",
   "execution_count": null,
   "id": "8041c4c7",
   "metadata": {},
   "outputs": [],
   "source": [
    "print(paths_list_img[index])"
   ]
  },
  {
   "cell_type": "code",
   "execution_count": null,
   "id": "428dbbf4",
   "metadata": {},
   "outputs": [],
   "source": []
  }
 ],
 "metadata": {
  "kernelspec": {
   "display_name": "Python 3 (ipykernel)",
   "language": "python",
   "name": "python3"
  },
  "language_info": {
   "codemirror_mode": {
    "name": "ipython",
    "version": 3
   },
   "file_extension": ".py",
   "mimetype": "text/x-python",
   "name": "python",
   "nbconvert_exporter": "python",
   "pygments_lexer": "ipython3",
   "version": "3.8.10"
  }
 },
 "nbformat": 4,
 "nbformat_minor": 5
}
